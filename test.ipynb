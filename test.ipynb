{
 "cells": [
  {
   "cell_type": "code",
   "execution_count": 1,
   "metadata": {},
   "outputs": [
    {
     "name": "stdout",
     "output_type": "stream",
     "text": [
      "Fancy representation of the matrix:\n",
      "[[1 2 3]\n",
      " [4 5 6]\n",
      " [7 8 9]]\n"
     ]
    }
   ],
   "source": [
    "import numpy as np\n",
    "import schelling_model as sm\n",
    "\n",
    "# Create a numpy matrix\n",
    "matrix = np.array([[1, 2, 3], [4, 5, 6], [7, 8, 9]])\n",
    "\n",
    "# Set print options for numpy\n",
    "np.set_printoptions(precision=2, suppress=True, linewidth=100)\n",
    "\n",
    "# Print the matrix\n",
    "print(\"Fancy representation of the matrix:\")\n",
    "print(matrix)"
   ]
  },
  {
   "cell_type": "code",
   "execution_count": 8,
   "metadata": {},
   "outputs": [],
   "source": [
    "Kernel = np.array([[1,1,1],[1,0,1],[1,1,1]],dtype=np.int8)\n",
    "Kernel2 = np.array([[2,-2],[2,-1],[2,0],[2,1],[2,2],[1,-2],[1,-1],[1,0],[1,1],[1,2],[0,-2],[0,-1],[0,0],[0,1],[0,2],[-1,-2],[-1,-1],[-1,0],[-1,1],[-1,2]\\\n",
    "    ,[-2,-2],[-2,-1],[-2,0],[-2,1],[-2,2]])\n",
    "model = sm.ClassicSchellingModel(20,0.6,0.001,1,Kernel,0.00001)\n",
    "model = model.rand_init()"
   ]
  },
  {
   "cell_type": "code",
   "execution_count": 9,
   "metadata": {},
   "outputs": [
    {
     "name": "stdout",
     "output_type": "stream",
     "text": [
      "[[ 1  1  0  1  0  0  1  0  1  0  1  1  0  0  1  0  1  1  1  1]\n",
      " [ 1  0  1  0  1  0  1  0  0  1  0  0  1  1  1  1  0  0  0  1]\n",
      " [ 1  1  1  1  0  0  0  1  0  0  1  1  0  1  1  0  1  1  1  1]\n",
      " [ 0  0  1  1  1  1  1  0  1  1  0  1  0  0  0  0  0  0  0  0]\n",
      " [ 0  1  1  0  1  0  0  1  1  1  1  0  1  0  0  1  0  0  0  0]\n",
      " [ 0  0  1  1  0  0  1  0  0  1  1  1  1  0  1  1  1  0  0  1]\n",
      " [ 0  0  1  1  1  1  0  1  0  1  0  0  1  1  0  1  0  0  1  1]\n",
      " [ 1  1  1  0  0  0  0  1  1  1  0  1  1  0  1  0  0  1  0  1]\n",
      " [ 0  1  1  1  1  0  0  0  0  0  0  0  0 -1  0  0  0  0  1  1]\n",
      " [ 1  0  0  1  1  1  1  1  0  0  0  1  0  1  0  0  1  1  1  0]\n",
      " [ 0  0  1  0  0  0  1  0  0  1  1  0  1  0  0  0  0  0  1  1]\n",
      " [ 0  0  0  1  1  1  0  1  0  0  0  0  0  0  0  1  1  0 -1  0]\n",
      " [ 1  1  0  1  0  0  0  0  0  1  0  1  0  1  0  0  0  0  1  1]\n",
      " [ 1  0  0  1  1  0  1  0  1  1  1  1  0  1  1  1  1  0  0  0]\n",
      " [ 0  1  1  0  1  1  0  1  0  0  1  1  1  0  0  1  1  0  1  0]\n",
      " [ 0  0  0 -1  1  1  1  1  1  1  1  0  1  0  1  0  1  1  0  0]\n",
      " [ 0  1  0  1  0  1  1  1  1  1  1  1  1  1  0  1  0  1  0  0]\n",
      " [ 0  1  0  0  1  0  0  0  0  1  0  0  0  1  1  0  1  1  1 -1]\n",
      " [ 1  0  0  0  0  1  0  1  1  0  1  1  1  1  0  1  1  1  1  0]\n",
      " [ 1  0  0  0  0  0  1  1  0  1  0  0  0  1  1  1  0  0  0  1]]\n"
     ]
    }
   ],
   "source": [
    "model.print_matrix() "
   ]
  }
 ],
 "metadata": {
  "kernelspec": {
   "display_name": "Python 3",
   "language": "python",
   "name": "python3"
  },
  "language_info": {
   "codemirror_mode": {
    "name": "ipython",
    "version": 3
   },
   "file_extension": ".py",
   "mimetype": "text/x-python",
   "name": "python",
   "nbconvert_exporter": "python",
   "pygments_lexer": "ipython3",
   "version": "3.11.0"
  }
 },
 "nbformat": 4,
 "nbformat_minor": 2
}
