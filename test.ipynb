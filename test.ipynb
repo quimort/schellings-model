{
 "cells": [
  {
   "cell_type": "code",
   "execution_count": 1,
   "metadata": {},
   "outputs": [],
   "source": [
    "import numpy as np\n",
    "import schelling_model as sm"
   ]
  },
  {
   "cell_type": "code",
   "execution_count": 2,
   "metadata": {},
   "outputs": [],
   "source": [
    "Kernel = np.array([[1,1,1],[1,0,1],[1,1,1]],dtype=np.int8)\n",
    "Kernel2 = np.array([[2,-2],[2,-1],[2,0],[2,1],[2,2],[1,-2],[1,-1],[1,0],[1,1],[1,2],[0,-2],[0,-1],[0,0],[0,1],[0,2],[-1,-2],[-1,-1],[-1,0],[-1,1],[-1,2]\\\n",
    "    ,[-2,-2],[-2,-1],[-2,0],[-2,1],[-2,2]])\n",
    "model = sm.ClassicSchellingModel(20,0.6,0.01,1,Kernel,0.00001)\n",
    "model = model.rand_init()"
   ]
  },
  {
   "cell_type": "code",
   "execution_count": 3,
   "metadata": {},
   "outputs": [
    {
     "name": "stdout",
     "output_type": "stream",
     "text": [
      "[[ 1  0  0  0  0  0  1  0  1  0  1  1  0  1  0  1  0  1  1  1]\n",
      " [ 0  1  0  1  0  0  1  1  0  0  1  0  1  0  0  0  1  1  0  1]\n",
      " [ 0  0  1  0  0  1  1  0  1  1  0  1  1  0  1  0  0  1  1  1]\n",
      " [ 1  1  1  1  1  1  1  0  1  1  1  1  1  1  1  0  0  1  1  1]\n",
      " [ 0  1  0  1  0  0  0  0  0  0  0  0  1  0  1  0  1  0  1  0]\n",
      " [ 0  0  0  1  0  0  1  1  1  0  1  0  1  0  1  0  0  1  1 -1]\n",
      " [ 0  0  1  1  1  1  0  1  1  0  1  0  1  1  0  0  1  1  0  1]\n",
      " [ 1  0  0  0  0  1  0  1  1  1  1  0  1  1  0  0  1  1  1  1]\n",
      " [ 1  1  0  0  0  0  0  1  0  1  0  1  0  0  0  1  1  1  0  1]\n",
      " [ 1  0  1  0  0  0  0  1  1  1  0 -1  0  1  1  1  0  0  0  0]\n",
      " [ 0  1  1  0  1  1  1  0  1  0  0  0  0  1  0  0  1  0  0  1]\n",
      " [ 1  0  1  0  1  1  1  1  1  1  1  1  0  1  1  1  0  0  1  1]\n",
      " [ 0  0  1  1  1  1  0  1  0  1  0  0  1  1  0  1  0  0  1  0]\n",
      " [ 1  0  0  0  0  0  1  1  1  0  1  0  1  0  1  1  0  1  0  0]\n",
      " [ 1  1  0  1  0  1  0  1  0  0  0  1  1  1  1  1  0  1  1  0]\n",
      " [ 1  1  0  0  0  0  0  0  0  1  0  1  0  1  0  1  0  1  1  0]\n",
      " [ 0  1 -1  1  0  0  1  0  0  0  0  1  1  0  0  0  0  0  0  1]\n",
      " [ 0  0  0  1  0  1  1  1  1  1  0  0  1  0  0  0  0  1  0  0]\n",
      " [ 1  0  0  1  0  0  1 -1  0  0  0  0  0  0  1  0  1  1  1  0]\n",
      " [ 1  0  0  1  0  1  0  1  0  1  1  0  1  0  1  1  0  1  1  0]]\n"
     ]
    }
   ],
   "source": [
    "model.print_matrix() \n",
    "m1 = model.get_matrix()"
   ]
  },
  {
   "cell_type": "code",
   "execution_count": 4,
   "metadata": {},
   "outputs": [
    {
     "name": "stdout",
     "output_type": "stream",
     "text": [
      "[[ 1  0  0  0  0  0  1  0  1  0  1  1  0  1  0  1  0  1  1  1]\n",
      " [ 0  1  0  1  0  0  1  1  0  0  1  0  1  0  0  0  1  1  0  1]\n",
      " [ 0  0  1  0  0  1  1  0  1  1  0  1  1  0  1  0  0  1  1  1]\n",
      " [ 1  1  1  1  1  1  1  0  1  1  1  1  1  1  1  0  0  1  1  1]\n",
      " [ 0  1  0  1  0  0  0  0  0  0  0  0  1  0  1  0  1  0  1  0]\n",
      " [ 0  0  0  1  0  0  1  1  1  0  1  0  1  0  1  0  0  1  1  0]\n",
      " [ 0  0  1  1  1  1  0  1  1  0  1  0  1  1  0  0  1  1  0  1]\n",
      " [ 1  0  0  0  0  1  0  1  1  1  1  0  1  1  0  0  1  1  1  1]\n",
      " [ 1  1  0  0  0  0  0  1  0  1  0  1  0  0  0  1  1  1  0  1]\n",
      " [ 1  0  1  0  0  0  0  1  1  1  0 -1  0  1  1  1  0  0  0  0]\n",
      " [ 0  1  1  0  1  1  1  0  1  0  0  0  0  1  0  0  1  0  0  1]\n",
      " [ 1  0  1  0  1  1  1  1  1  1  1  1  0  1  1  1  0  0  1  1]\n",
      " [ 0  0  1  1  1  1  0  1  0  1  0  0  1  1  0  1  0  0  1  0]\n",
      " [ 1  0  0  0  0  0  1  1  1  0  1  0  1  0  1  1  0  1  0  0]\n",
      " [ 1  1  0  1  0  1  0  1  0  0  0  1  1  1  1  1  0  1  1  0]\n",
      " [ 1  1  0  0  0  0  0  0  0  1  0  1  0  1  0  1  0  1  1  0]\n",
      " [ 0  1 -1  1  0  0  1  0  0  0  0  1  1  0  0  0  0  0  0  1]\n",
      " [ 0  0  0  1  0  1  1  1  1  1  0  0  1  0  0  0  0  1  0  0]\n",
      " [ 1  0  0  1  0  0  1 -1  0 -1  0  0  0  0  1  0  1  1  1  0]\n",
      " [ 1  0  0  1  0  1  0  1  0  1  1  0  1  0  1  1  0  1  1  0]]\n"
     ]
    }
   ],
   "source": [
    "model = model.step()\n",
    "m2 = model.get_matrix()\n",
    "model.print_matrix()"
   ]
  },
  {
   "cell_type": "code",
   "execution_count": 5,
   "metadata": {},
   "outputs": [
    {
     "name": "stdout",
     "output_type": "stream",
     "text": [
      "False\n"
     ]
    }
   ],
   "source": [
    "print(model.blocked)"
   ]
  },
  {
   "cell_type": "code",
   "execution_count": 6,
   "metadata": {},
   "outputs": [
    {
     "name": "stdout",
     "output_type": "stream",
     "text": [
      "dissatisfaction:0.648989898989899\n",
      "interratial pears: (0.5095785440613027, 0.5082802547770701, 1.0178587988383727)\n",
      "mean similarity: 0.4898989898989899\n"
     ]
    }
   ],
   "source": [
    "print(f\"dissatisfaction:{model.get_mean_dissatisfaction()}\")\n",
    "print(f\"interratial pears: {model.get_mean_interratial_pears()}\")\n",
    "print(f\"mean similarity: {model.get_mean_similarity_ratio()}\")"
   ]
  }
 ],
 "metadata": {
  "kernelspec": {
   "display_name": "Python 3",
   "language": "python",
   "name": "python3"
  },
  "language_info": {
   "codemirror_mode": {
    "name": "ipython",
    "version": 3
   },
   "file_extension": ".py",
   "mimetype": "text/x-python",
   "name": "python",
   "nbconvert_exporter": "python",
   "pygments_lexer": "ipython3",
   "version": "3.11.0"
  }
 },
 "nbformat": 4,
 "nbformat_minor": 2
}
