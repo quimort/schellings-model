{
 "cells": [
  {
   "cell_type": "code",
   "execution_count": 2,
   "metadata": {},
   "outputs": [],
   "source": [
    "import pandas as pd"
   ]
  },
  {
   "cell_type": "code",
   "execution_count": 3,
   "metadata": {},
   "outputs": [],
   "source": [
    "df = pd.read_csv('schelling_values_100_model_2.csv',delimiter=';')"
   ]
  },
  {
   "cell_type": "code",
   "execution_count": 4,
   "metadata": {},
   "outputs": [
    {
     "data": {
      "text/html": [
       "<div>\n",
       "<style scoped>\n",
       "    .dataframe tbody tr th:only-of-type {\n",
       "        vertical-align: middle;\n",
       "    }\n",
       "\n",
       "    .dataframe tbody tr th {\n",
       "        vertical-align: top;\n",
       "    }\n",
       "\n",
       "    .dataframe thead th {\n",
       "        text-align: right;\n",
       "    }\n",
       "</style>\n",
       "<table border=\"1\" class=\"dataframe\">\n",
       "  <thead>\n",
       "    <tr style=\"text-align: right;\">\n",
       "      <th></th>\n",
       "      <th>vacant</th>\n",
       "      <th>similarity ratio inicial</th>\n",
       "      <th>mean dissatisfaction inicial</th>\n",
       "      <th>mean interratial pears inicial</th>\n",
       "      <th>similarity ratio final</th>\n",
       "      <th>mean dissatisfaction final</th>\n",
       "      <th>mean interratial pears final</th>\n",
       "      <th>number of iterations</th>\n",
       "    </tr>\n",
       "  </thead>\n",
       "  <tbody>\n",
       "    <tr>\n",
       "      <th>0</th>\n",
       "      <td>0.001</td>\n",
       "      <td>0.448219</td>\n",
       "      <td>0.3768</td>\n",
       "      <td>0.6529</td>\n",
       "      <td>0.799591</td>\n",
       "      <td>0.0</td>\n",
       "      <td>0.8208</td>\n",
       "      <td>1037</td>\n",
       "    </tr>\n",
       "    <tr>\n",
       "      <th>1</th>\n",
       "      <td>0.001</td>\n",
       "      <td>0.445806</td>\n",
       "      <td>0.3736</td>\n",
       "      <td>0.6491</td>\n",
       "      <td>0.788711</td>\n",
       "      <td>0.0</td>\n",
       "      <td>0.8164</td>\n",
       "      <td>1048</td>\n",
       "    </tr>\n",
       "    <tr>\n",
       "      <th>2</th>\n",
       "      <td>0.001</td>\n",
       "      <td>0.448603</td>\n",
       "      <td>0.3740</td>\n",
       "      <td>0.6542</td>\n",
       "      <td>0.785257</td>\n",
       "      <td>0.0</td>\n",
       "      <td>0.8186</td>\n",
       "      <td>1011</td>\n",
       "    </tr>\n",
       "    <tr>\n",
       "      <th>3</th>\n",
       "      <td>0.001</td>\n",
       "      <td>0.451703</td>\n",
       "      <td>0.3760</td>\n",
       "      <td>0.6533</td>\n",
       "      <td>0.784968</td>\n",
       "      <td>0.0</td>\n",
       "      <td>0.8155</td>\n",
       "      <td>1016</td>\n",
       "    </tr>\n",
       "    <tr>\n",
       "      <th>4</th>\n",
       "      <td>0.001</td>\n",
       "      <td>0.457800</td>\n",
       "      <td>0.3588</td>\n",
       "      <td>0.6559</td>\n",
       "      <td>0.789332</td>\n",
       "      <td>0.0</td>\n",
       "      <td>0.8140</td>\n",
       "      <td>989</td>\n",
       "    </tr>\n",
       "    <tr>\n",
       "      <th>...</th>\n",
       "      <td>...</td>\n",
       "      <td>...</td>\n",
       "      <td>...</td>\n",
       "      <td>...</td>\n",
       "      <td>...</td>\n",
       "      <td>...</td>\n",
       "      <td>...</td>\n",
       "      <td>...</td>\n",
       "    </tr>\n",
       "    <tr>\n",
       "      <th>17995</th>\n",
       "      <td>0.900</td>\n",
       "      <td>0.441832</td>\n",
       "      <td>0.3996</td>\n",
       "      <td>0.6489</td>\n",
       "      <td>0.789837</td>\n",
       "      <td>0.0</td>\n",
       "      <td>0.8163</td>\n",
       "      <td>1035</td>\n",
       "    </tr>\n",
       "    <tr>\n",
       "      <th>17996</th>\n",
       "      <td>0.900</td>\n",
       "      <td>0.452378</td>\n",
       "      <td>0.3720</td>\n",
       "      <td>0.6521</td>\n",
       "      <td>0.789937</td>\n",
       "      <td>0.0</td>\n",
       "      <td>0.8211</td>\n",
       "      <td>1005</td>\n",
       "    </tr>\n",
       "    <tr>\n",
       "      <th>17997</th>\n",
       "      <td>0.900</td>\n",
       "      <td>0.450891</td>\n",
       "      <td>0.3784</td>\n",
       "      <td>0.6525</td>\n",
       "      <td>0.778324</td>\n",
       "      <td>0.0</td>\n",
       "      <td>0.8177</td>\n",
       "      <td>993</td>\n",
       "    </tr>\n",
       "    <tr>\n",
       "      <th>17998</th>\n",
       "      <td>0.900</td>\n",
       "      <td>0.449786</td>\n",
       "      <td>0.3740</td>\n",
       "      <td>0.6524</td>\n",
       "      <td>0.791125</td>\n",
       "      <td>0.0</td>\n",
       "      <td>0.8231</td>\n",
       "      <td>1022</td>\n",
       "    </tr>\n",
       "    <tr>\n",
       "      <th>17999</th>\n",
       "      <td>0.900</td>\n",
       "      <td>0.445807</td>\n",
       "      <td>0.3768</td>\n",
       "      <td>0.6513</td>\n",
       "      <td>0.799377</td>\n",
       "      <td>0.0</td>\n",
       "      <td>0.8213</td>\n",
       "      <td>1029</td>\n",
       "    </tr>\n",
       "  </tbody>\n",
       "</table>\n",
       "<p>18000 rows × 8 columns</p>\n",
       "</div>"
      ],
      "text/plain": [
       "       vacant  similarity ratio inicial  mean dissatisfaction inicial  \\\n",
       "0       0.001                  0.448219                        0.3768   \n",
       "1       0.001                  0.445806                        0.3736   \n",
       "2       0.001                  0.448603                        0.3740   \n",
       "3       0.001                  0.451703                        0.3760   \n",
       "4       0.001                  0.457800                        0.3588   \n",
       "...       ...                       ...                           ...   \n",
       "17995   0.900                  0.441832                        0.3996   \n",
       "17996   0.900                  0.452378                        0.3720   \n",
       "17997   0.900                  0.450891                        0.3784   \n",
       "17998   0.900                  0.449786                        0.3740   \n",
       "17999   0.900                  0.445807                        0.3768   \n",
       "\n",
       "       mean interratial pears inicial  similarity ratio final  \\\n",
       "0                              0.6529                0.799591   \n",
       "1                              0.6491                0.788711   \n",
       "2                              0.6542                0.785257   \n",
       "3                              0.6533                0.784968   \n",
       "4                              0.6559                0.789332   \n",
       "...                               ...                     ...   \n",
       "17995                          0.6489                0.789837   \n",
       "17996                          0.6521                0.789937   \n",
       "17997                          0.6525                0.778324   \n",
       "17998                          0.6524                0.791125   \n",
       "17999                          0.6513                0.799377   \n",
       "\n",
       "       mean dissatisfaction final  mean interratial pears final  \\\n",
       "0                             0.0                        0.8208   \n",
       "1                             0.0                        0.8164   \n",
       "2                             0.0                        0.8186   \n",
       "3                             0.0                        0.8155   \n",
       "4                             0.0                        0.8140   \n",
       "...                           ...                           ...   \n",
       "17995                         0.0                        0.8163   \n",
       "17996                         0.0                        0.8211   \n",
       "17997                         0.0                        0.8177   \n",
       "17998                         0.0                        0.8231   \n",
       "17999                         0.0                        0.8213   \n",
       "\n",
       "       number of iterations  \n",
       "0                      1037  \n",
       "1                      1048  \n",
       "2                      1011  \n",
       "3                      1016  \n",
       "4                       989  \n",
       "...                     ...  \n",
       "17995                  1035  \n",
       "17996                  1005  \n",
       "17997                   993  \n",
       "17998                  1022  \n",
       "17999                  1029  \n",
       "\n",
       "[18000 rows x 8 columns]"
      ]
     },
     "metadata": {},
     "output_type": "display_data"
    }
   ],
   "source": [
    "display(df)"
   ]
  },
  {
   "cell_type": "code",
   "execution_count": 10,
   "metadata": {},
   "outputs": [
    {
     "name": "stdout",
     "output_type": "stream",
     "text": [
      "Index(['vacant', 'similarity ratio inicial', 'mean dissatisfaction inicial',\n",
      "       'mean interratial pears inicial', 'similarity ratio final',\n",
      "       'mean dissatisfaction final', 'mean interratial pears final',\n",
      "       'number of iterations'],\n",
      "      dtype='object')\n"
     ]
    }
   ],
   "source": [
    "df2 = df[df['number of iterations'] !=30000]\n",
    "print(df2.columns)"
   ]
  },
  {
   "cell_type": "code",
   "execution_count": 24,
   "metadata": {},
   "outputs": [
    {
     "ename": "ValueError",
     "evalue": "'vacant' is both an index level and a column label, which is ambiguous.",
     "output_type": "error",
     "traceback": [
      "\u001b[1;31m---------------------------------------------------------------------------\u001b[0m",
      "\u001b[1;31mValueError\u001b[0m                                Traceback (most recent call last)",
      "\u001b[1;32m~\\AppData\\Local\\Temp/ipykernel_20712/3580925207.py\u001b[0m in \u001b[0;36m<module>\u001b[1;34m\u001b[0m\n\u001b[1;32m----> 1\u001b[1;33m \u001b[0mdf2\u001b[0m \u001b[1;33m=\u001b[0m \u001b[0mdf2\u001b[0m\u001b[1;33m.\u001b[0m\u001b[0mgroupby\u001b[0m\u001b[1;33m(\u001b[0m\u001b[1;34m'vacant'\u001b[0m\u001b[1;33m)\u001b[0m\u001b[1;33m.\u001b[0m\u001b[0mmean\u001b[0m\u001b[1;33m(\u001b[0m\u001b[1;33m)\u001b[0m\u001b[1;33m\u001b[0m\u001b[1;33m\u001b[0m\u001b[0m\n\u001b[0m\u001b[0;32m      2\u001b[0m \u001b[1;31m#df2['vacant'] = df2.index\u001b[0m\u001b[1;33m\u001b[0m\u001b[1;33m\u001b[0m\u001b[1;33m\u001b[0m\u001b[0m\n\u001b[0;32m      3\u001b[0m \u001b[0mdf2\u001b[0m\u001b[1;33m.\u001b[0m\u001b[0mreset_index\u001b[0m\u001b[1;33m(\u001b[0m\u001b[0mdrop\u001b[0m\u001b[1;33m=\u001b[0m\u001b[1;32mTrue\u001b[0m\u001b[1;33m,\u001b[0m\u001b[0minplace\u001b[0m \u001b[1;33m=\u001b[0m \u001b[1;32mTrue\u001b[0m\u001b[1;33m)\u001b[0m\u001b[1;33m\u001b[0m\u001b[1;33m\u001b[0m\u001b[0m\n\u001b[0;32m      4\u001b[0m \u001b[1;31m#df2['satisfaction diff'] = df2['mean dissatisfaction inicial']-df2['mean dissatisfaction final']\u001b[0m\u001b[1;33m\u001b[0m\u001b[1;33m\u001b[0m\u001b[1;33m\u001b[0m\u001b[0m\n\u001b[0;32m      5\u001b[0m \u001b[0mdisplay\u001b[0m\u001b[1;33m(\u001b[0m\u001b[0mdf2\u001b[0m\u001b[1;33m)\u001b[0m\u001b[1;33m\u001b[0m\u001b[1;33m\u001b[0m\u001b[0m\n",
      "\u001b[1;32md:\\programas\\Anaconda3\\lib\\site-packages\\pandas\\core\\frame.py\u001b[0m in \u001b[0;36mgroupby\u001b[1;34m(self, by, axis, level, as_index, sort, group_keys, squeeze, observed, dropna)\u001b[0m\n\u001b[0;32m   7624\u001b[0m         \u001b[1;31m# error: Argument \"squeeze\" to \"DataFrameGroupBy\" has incompatible type\u001b[0m\u001b[1;33m\u001b[0m\u001b[1;33m\u001b[0m\u001b[1;33m\u001b[0m\u001b[0m\n\u001b[0;32m   7625\u001b[0m         \u001b[1;31m# \"Union[bool, NoDefault]\"; expected \"bool\"\u001b[0m\u001b[1;33m\u001b[0m\u001b[1;33m\u001b[0m\u001b[1;33m\u001b[0m\u001b[0m\n\u001b[1;32m-> 7626\u001b[1;33m         return DataFrameGroupBy(\n\u001b[0m\u001b[0;32m   7627\u001b[0m             \u001b[0mobj\u001b[0m\u001b[1;33m=\u001b[0m\u001b[0mself\u001b[0m\u001b[1;33m,\u001b[0m\u001b[1;33m\u001b[0m\u001b[1;33m\u001b[0m\u001b[0m\n\u001b[0;32m   7628\u001b[0m             \u001b[0mkeys\u001b[0m\u001b[1;33m=\u001b[0m\u001b[0mby\u001b[0m\u001b[1;33m,\u001b[0m\u001b[1;33m\u001b[0m\u001b[1;33m\u001b[0m\u001b[0m\n",
      "\u001b[1;32md:\\programas\\Anaconda3\\lib\\site-packages\\pandas\\core\\groupby\\groupby.py\u001b[0m in \u001b[0;36m__init__\u001b[1;34m(self, obj, keys, axis, level, grouper, exclusions, selection, as_index, sort, group_keys, squeeze, observed, mutated, dropna)\u001b[0m\n\u001b[0;32m    886\u001b[0m             \u001b[1;32mfrom\u001b[0m \u001b[0mpandas\u001b[0m\u001b[1;33m.\u001b[0m\u001b[0mcore\u001b[0m\u001b[1;33m.\u001b[0m\u001b[0mgroupby\u001b[0m\u001b[1;33m.\u001b[0m\u001b[0mgrouper\u001b[0m \u001b[1;32mimport\u001b[0m \u001b[0mget_grouper\u001b[0m\u001b[1;33m\u001b[0m\u001b[1;33m\u001b[0m\u001b[0m\n\u001b[0;32m    887\u001b[0m \u001b[1;33m\u001b[0m\u001b[0m\n\u001b[1;32m--> 888\u001b[1;33m             grouper, exclusions, obj = get_grouper(\n\u001b[0m\u001b[0;32m    889\u001b[0m                 \u001b[0mobj\u001b[0m\u001b[1;33m,\u001b[0m\u001b[1;33m\u001b[0m\u001b[1;33m\u001b[0m\u001b[0m\n\u001b[0;32m    890\u001b[0m                 \u001b[0mkeys\u001b[0m\u001b[1;33m,\u001b[0m\u001b[1;33m\u001b[0m\u001b[1;33m\u001b[0m\u001b[0m\n",
      "\u001b[1;32md:\\programas\\Anaconda3\\lib\\site-packages\\pandas\\core\\groupby\\grouper.py\u001b[0m in \u001b[0;36mget_grouper\u001b[1;34m(obj, key, axis, level, sort, observed, mutated, validate, dropna)\u001b[0m\n\u001b[0;32m    848\u001b[0m             \u001b[1;32mif\u001b[0m \u001b[0mgpr\u001b[0m \u001b[1;32min\u001b[0m \u001b[0mobj\u001b[0m\u001b[1;33m:\u001b[0m\u001b[1;33m\u001b[0m\u001b[1;33m\u001b[0m\u001b[0m\n\u001b[0;32m    849\u001b[0m                 \u001b[1;32mif\u001b[0m \u001b[0mvalidate\u001b[0m\u001b[1;33m:\u001b[0m\u001b[1;33m\u001b[0m\u001b[1;33m\u001b[0m\u001b[0m\n\u001b[1;32m--> 850\u001b[1;33m                     \u001b[0mobj\u001b[0m\u001b[1;33m.\u001b[0m\u001b[0m_check_label_or_level_ambiguity\u001b[0m\u001b[1;33m(\u001b[0m\u001b[0mgpr\u001b[0m\u001b[1;33m,\u001b[0m \u001b[0maxis\u001b[0m\u001b[1;33m=\u001b[0m\u001b[0maxis\u001b[0m\u001b[1;33m)\u001b[0m\u001b[1;33m\u001b[0m\u001b[1;33m\u001b[0m\u001b[0m\n\u001b[0m\u001b[0;32m    851\u001b[0m                 \u001b[0min_axis\u001b[0m\u001b[1;33m,\u001b[0m \u001b[0mname\u001b[0m\u001b[1;33m,\u001b[0m \u001b[0mgpr\u001b[0m \u001b[1;33m=\u001b[0m \u001b[1;32mTrue\u001b[0m\u001b[1;33m,\u001b[0m \u001b[0mgpr\u001b[0m\u001b[1;33m,\u001b[0m \u001b[0mobj\u001b[0m\u001b[1;33m[\u001b[0m\u001b[0mgpr\u001b[0m\u001b[1;33m]\u001b[0m\u001b[1;33m\u001b[0m\u001b[1;33m\u001b[0m\u001b[0m\n\u001b[0;32m    852\u001b[0m                 \u001b[1;32mif\u001b[0m \u001b[0mgpr\u001b[0m\u001b[1;33m.\u001b[0m\u001b[0mndim\u001b[0m \u001b[1;33m!=\u001b[0m \u001b[1;36m1\u001b[0m\u001b[1;33m:\u001b[0m\u001b[1;33m\u001b[0m\u001b[1;33m\u001b[0m\u001b[0m\n",
      "\u001b[1;32md:\\programas\\Anaconda3\\lib\\site-packages\\pandas\\core\\generic.py\u001b[0m in \u001b[0;36m_check_label_or_level_ambiguity\u001b[1;34m(self, key, axis)\u001b[0m\n\u001b[0;32m   1731\u001b[0m                 \u001b[1;34mf\"{label_article} {label_type} label, which is ambiguous.\"\u001b[0m\u001b[1;33m\u001b[0m\u001b[1;33m\u001b[0m\u001b[0m\n\u001b[0;32m   1732\u001b[0m             )\n\u001b[1;32m-> 1733\u001b[1;33m             \u001b[1;32mraise\u001b[0m \u001b[0mValueError\u001b[0m\u001b[1;33m(\u001b[0m\u001b[0mmsg\u001b[0m\u001b[1;33m)\u001b[0m\u001b[1;33m\u001b[0m\u001b[1;33m\u001b[0m\u001b[0m\n\u001b[0m\u001b[0;32m   1734\u001b[0m \u001b[1;33m\u001b[0m\u001b[0m\n\u001b[0;32m   1735\u001b[0m     \u001b[1;33m@\u001b[0m\u001b[0mfinal\u001b[0m\u001b[1;33m\u001b[0m\u001b[1;33m\u001b[0m\u001b[0m\n",
      "\u001b[1;31mValueError\u001b[0m: 'vacant' is both an index level and a column label, which is ambiguous."
     ]
    }
   ],
   "source": [
    "df2 = df2.groupby('vacant').mean()\n",
    "#df2['vacant'] = df2.index\n",
    "df2.reset_index(drop=True,inplace = True)\n",
    "#df2['satisfaction diff'] = df2['mean dissatisfaction inicial']-df2['mean dissatisfaction final']\n",
    "display(df2)"
   ]
  },
  {
   "cell_type": "code",
   "execution_count": 22,
   "metadata": {},
   "outputs": [
    {
     "data": {
      "text/plain": [
       "<AxesSubplot:xlabel='vacant', ylabel='mean dissatisfaction final'>"
      ]
     },
     "execution_count": 22,
     "metadata": {},
     "output_type": "execute_result"
    },
    {
     "data": {
      "image/png": "[encoded data removed]",
      "text/plain": [
       "<Figure size 432x288 with 1 Axes>"
      ]
     },
     "metadata": {
      "needs_background": "light"
     },
     "output_type": "display_data"
    }
   ],
   "source": [
    "df2.plot(x='vacant',y='mean dissatisfaction final',kind='scatter')"
   ]
  }
 ],
 "metadata": {
  "kernelspec": {
   "display_name": "Python 3.8.11 ('base')",
   "language": "python",
   "name": "python3"
  },
  "language_info": {
   "codemirror_mode": {
    "name": "ipython",
    "version": 3
   },
   "file_extension": ".py",
   "mimetype": "text/x-python",
   "name": "python",
   "nbconvert_exporter": "python",
   "pygments_lexer": "ipython3",
   "version": "3.8.11"
  },
  "orig_nbformat": 4,
  "vscode": {
   "interpreter": {
    "hash": "1e92f8e8f0060eb2d7980ae8377f7477a701880719107b0dd5f434ebd3861a2c"
   }
  }
 },
 "nbformat": 4,
 "nbformat_minor": 2
}
