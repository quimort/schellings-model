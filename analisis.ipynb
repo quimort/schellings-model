{
 "cells": [
  {
   "cell_type": "code",
   "execution_count": null,
   "metadata": {},
   "outputs": [],
   "source": [
    "import pandas as pd\n",
    "import matplotlib.pyplot as plt"
   ]
  },
  {
   "cell_type": "code",
   "execution_count": null,
   "metadata": {},
   "outputs": [],
   "source": [
    "df_100 = pd.read_csv('schelling_values_100_model_2.csv',delimiter=\";\")\n",
    "df_1000 = pd.read_csv('schelling_values_1000_model_2.csv',delimiter=\";\")\n",
    "df_100= df_100[df_100['number of iterations'] !=30000]\n",
    "df_100 = df_100.groupby('vacant').mean()\n",
    "df_1000 = df_1000.groupby('vacant').mean()"
   ]
  },
  {
   "cell_type": "code",
   "execution_count": null,
   "metadata": {},
   "outputs": [],
   "source": [
    "df_1000['interratial pears dif'] = df_1000['mean interratial pears final'] - df_1000['mean interratial pears inicial']"
   ]
  },
  {
   "cell_type": "code",
   "execution_count": null,
   "metadata": {},
   "outputs": [],
   "source": [
    "plt.plot(df_1000.index,df_1000['interratial pears dif'],'bo')"
   ]
  },
  {
   "cell_type": "code",
   "execution_count": null,
   "metadata": {},
   "outputs": [],
   "source": [
    "df = pd.read_csv('schelling_optimization_size_0-01.csv',delimiter=\";\")\n",
    "plt.plot(df['size'],df['optimized time(s)'],'bo',label=\"Optimazed\")\n",
    "plt.plot(df['size'],df['normal time(s)'],'ro',label=\"normal\")\n",
    "plt.xlabel(\"size\")\n",
    "plt.ylabel(\"Time\")\n",
    "plt.legend()"
   ]
  },
  {
   "cell_type": "code",
   "execution_count": null,
   "metadata": {},
   "outputs": [],
   "source": [
    "df = pd.read_csv('schelling_optimization_empty_50.csv',delimiter=\";\")\n",
    "plt.plot(df['empty'],df['optimized time(s)'],'bo',label=\"Optimazed\")\n",
    "plt.plot(df['empty'],df['normal time(s)'],'ro',label=\"normal\")\n",
    "plt.xlabel(\"empty\")\n",
    "plt.ylabel(\"Time\")\n",
    "plt.xscale('log')\n",
    "plt.legend()"
   ]
  },
  {
   "cell_type": "code",
   "execution_count": 38,
   "metadata": {},
   "outputs": [],
   "source": [
    "df2 = pd.read_csv('schelling_values_100_model_2_30.csv',delimiter=\";\")\n",
    "df3 = pd.read_csv('schelling_values_100_model_3_30.csv',delimiter=\";\")\n",
    "df2 = df2.where(df2['number of iterations']!=30000)\n",
    "df3 = df3.where(df3['number of iterations']!=30000)\n",
    "indexes = df2['vacant'].drop_duplicates().dropna()\n",
    "cols = ['vacant','similarity ratio inicial','mean dissatisfaction inicial','mean interratial pears inicial','similarity ratio final',\\\n",
    "        'mean dissatisfaction final','mean interratial pears final','number of iterations']\n",
    "deviation2 = pd.DataFrame(columns=cols)\n",
    "deviation3 = pd.DataFrame(columns=cols)\n",
    "count  =0\n",
    "for i in indexes:\n",
    "    deviation2.loc[count] = df2.where(df2['vacant']==i).std()\n",
    "    deviation3.loc[count] = df3.where(df3['vacant']==i).std()\n",
    "    count +=1\n",
    "df2 = df2.groupby(\"vacant\").mean()\n",
    "df3 = df3.groupby(\"vacant\").mean()"
   ]
  },
  {
   "cell_type": "code",
   "execution_count": 40,
   "metadata": {},
   "outputs": [
    {
     "name": "stdout",
     "output_type": "stream",
     "text": [
      "99\n",
      "Float64Index([              0.01, 0.0104761575278966, 0.0109749876549305,\n",
      "              0.0114975699539773, 0.0120450354025878, 0.0126185688306602,\n",
      "              0.0132194114846602, 0.0138488637139387, 0.0145082877849593,\n",
      "              0.0151991108295293, 0.0159228279334109, 0.0166810053720005,\n",
      "              0.0174752840000768, 0.0183073828029536, 0.0191791026167248,\n",
      "              0.0200923300256504, 0.0210490414451202, 0.0220513073990304,\n",
      "              0.0231012970008316, 0.0242012826479438, 0.0253536449397011,\n",
      "              0.0265608778294668, 0.0278255940220712, 0.0291505306282517,\n",
      "              0.0305385550883341, 0.0319926713779738, 0.0335160265093884,\n",
      "              0.0351119173421513, 0.0367837977182863, 0.0385352859371052,\n",
      "              0.0403701725859655, 0.0422924287438949, 0.0443062145758388,\n",
      "              0.0464158883361277, 0.0486260158006535, 0.0509413801481638,\n",
      "              0.0533669923120631, 0.0559081018251222, 0.0585702081805666,\n",
      "              0.0613590727341317, 0.0642807311728432, 0.0673415065775082,\n",
      "              0.0705480231071864, 0.0739072203352577, 0.0774263682681127,\n",
      "              0.0811130830789687, 0.0849753435908644, 0.0890215085445038,\n",
      "               0.093260334688322, 0.0977009957299225, 0.1023531021899026,\n",
      "              0.1072267222010323, 0.1123324032978027, 0.1176811952434998,\n",
      "              0.1232846739442066, 0.1291549665014884, 0.1353047774579807,\n",
      "              0.1417474162926805, 0.1484968262254465, 0.1555676143930472,\n",
      "              0.1629750834620644, 0.1707352647470691, 0.1788649529057435,\n",
      "              0.1873817422860385, 0.1963040650040271, 0.2056512308348651,\n",
      "              0.2154434690031884,  0.225701971963392, 0.2364489412645408,\n",
      "              0.2477076355991711, 0.2595024211399737, 0.2718588242732941,\n",
      "              0.2848035868435802,  0.298364724028334, 0.3125715849688237,\n",
      "               0.327454916287773, 0.3430469286314919, 0.3593813663804627,\n",
      "              0.3764935806792469, 0.3944206059437656, 0.4132012400115338,\n",
      "              0.4328761281083059, 0.4534878508128584, 0.4750810162102798,\n",
      "              0.4977023564332111, 0.5214008287999687, 0.5462277217684343,\n",
      "               0.572236765935022, 0.5994842503189411, 0.6280291441834256,\n",
      "              0.6579332246575682, 0.6892612104349699, 0.7220809018385468,\n",
      "              0.7564633275546291, 0.7924828983539177, 0.8302175681319748,\n",
      "              0.8697490026177834, 0.9111627561154896, 0.9545484566618342],\n",
      "             dtype='float64', name='vacant')\n"
     ]
    }
   ],
   "source": [
    "print(len(deviation2.index))\n",
    "print(df2.index)"
   ]
  },
  {
   "cell_type": "code",
   "execution_count": 42,
   "metadata": {},
   "outputs": [
    {
     "data": {
      "text/plain": [
       "<matplotlib.legend.Legend at 0x17a08e11250>"
      ]
     },
     "execution_count": 42,
     "metadata": {},
     "output_type": "execute_result"
    },
    {
     "data": {
      "image/png": "[encoded data removed]",
      "text/plain": [
       "<Figure size 432x288 with 1 Axes>"
      ]
     },
     "metadata": {
      "needs_background": "light"
     },
     "output_type": "display_data"
    }
   ],
   "source": [
    "plt.errorbar(df2.index,df2['mean interratial pears final'],yerr=deviation2['mean interratial pears final'],label=\"model 2\")\n",
    "plt.errorbar(df3.index,df3['mean interratial pears final'],yerr=deviation3['mean interratial pears final'],label=\"model 3\")\n",
    "plt.xlabel(\"empty\")\n",
    "plt.ylabel(\"interratial pears\")\n",
    "plt.xscale('log')\n",
    "plt.legend()"
   ]
  }
 ],
 "metadata": {
  "kernelspec": {
   "display_name": "Python 3.8.11 ('base')",
   "language": "python",
   "name": "python3"
  },
  "language_info": {
   "codemirror_mode": {
    "name": "ipython",
    "version": 3
   },
   "file_extension": ".py",
   "mimetype": "text/x-python",
   "name": "python",
   "nbconvert_exporter": "python",
   "pygments_lexer": "ipython3",
   "version": "3.8.11"
  },
  "orig_nbformat": 4,
  "vscode": {
   "interpreter": {
    "hash": "1e92f8e8f0060eb2d7980ae8377f7477a701880719107b0dd5f434ebd3861a2c"
   }
  }
 },
 "nbformat": 4,
 "nbformat_minor": 2
}
